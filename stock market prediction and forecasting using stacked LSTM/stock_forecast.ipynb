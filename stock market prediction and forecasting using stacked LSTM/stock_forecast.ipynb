{
 "cells": [
  {
   "cell_type": "code",
   "execution_count": 62,
   "metadata": {},
   "outputs": [
    {
     "name": "stdout",
     "output_type": "stream",
     "text": [
      "Requirement already satisfied: pandas_datareader in c:\\python310\\lib\\site-packages (0.10.0)\n",
      "Requirement already satisfied: lxml in c:\\python310\\lib\\site-packages (from pandas_datareader) (4.9.3)\n",
      "Requirement already satisfied: pandas>=0.23 in c:\\python310\\lib\\site-packages (from pandas_datareader) (1.5.3)\n",
      "Requirement already satisfied: requests>=2.19.0 in c:\\python310\\lib\\site-packages (from pandas_datareader) (2.31.0)\n",
      "Requirement already satisfied: python-dateutil>=2.8.1 in c:\\users\\sanjay chilveri\\appdata\\roaming\\python\\python310\\site-packages (from pandas>=0.23->pandas_datareader) (2.8.2)\n",
      "Requirement already satisfied: pytz>=2020.1 in c:\\python310\\lib\\site-packages (from pandas>=0.23->pandas_datareader) (2022.7.1)\n",
      "Requirement already satisfied: numpy>=1.21.0 in c:\\python310\\lib\\site-packages (from pandas>=0.23->pandas_datareader) (1.23.4)\n",
      "Requirement already satisfied: charset-normalizer<4,>=2 in c:\\python310\\lib\\site-packages (from requests>=2.19.0->pandas_datareader) (3.0.1)\n",
      "Requirement already satisfied: idna<4,>=2.5 in c:\\python310\\lib\\site-packages (from requests>=2.19.0->pandas_datareader) (3.4)\n",
      "Requirement already satisfied: urllib3<3,>=1.21.1 in c:\\python310\\lib\\site-packages (from requests>=2.19.0->pandas_datareader) (1.26.16)\n",
      "Requirement already satisfied: certifi>=2017.4.17 in c:\\python310\\lib\\site-packages (from requests>=2.19.0->pandas_datareader) (2023.5.7)\n",
      "Requirement already satisfied: six>=1.5 in c:\\python310\\lib\\site-packages (from python-dateutil>=2.8.1->pandas>=0.23->pandas_datareader) (1.16.0)\n",
      "Note: you may need to restart the kernel to use updated packages.\n"
     ]
    },
    {
     "name": "stderr",
     "output_type": "stream",
     "text": [
      "WARNING: Ignoring invalid distribution -p (c:\\python310\\lib\\site-packages)\n",
      "WARNING: Ignoring invalid distribution - (c:\\python310\\lib\\site-packages)\n",
      "WARNING: Ignoring invalid distribution -p (c:\\python310\\lib\\site-packages)\n",
      "WARNING: Ignoring invalid distribution -0p (c:\\python310\\lib\\site-packages)\n",
      "WARNING: Ignoring invalid distribution -1p (c:\\python310\\lib\\site-packages)\n",
      "WARNING: Ignoring invalid distribution -2p (c:\\python310\\lib\\site-packages)\n",
      "WARNING: Ignoring invalid distribution -3p (c:\\python310\\lib\\site-packages)\n",
      "WARNING: Ignoring invalid distribution -4p (c:\\python310\\lib\\site-packages)\n",
      "WARNING: Ignoring invalid distribution -5p (c:\\python310\\lib\\site-packages)\n",
      "WARNING: Ignoring invalid distribution -6p (c:\\python310\\lib\\site-packages)\n",
      "WARNING: Ignoring invalid distribution -7p (c:\\python310\\lib\\site-packages)\n",
      "WARNING: Ignoring invalid distribution -8p (c:\\python310\\lib\\site-packages)\n",
      "WARNING: Ignoring invalid distribution -ip (c:\\python310\\lib\\site-packages)\n",
      "WARNING: Ignoring invalid distribution -p (c:\\python310\\lib\\site-packages)\n",
      "WARNING: Ignoring invalid distribution - (c:\\python310\\lib\\site-packages)\n",
      "WARNING: Ignoring invalid distribution -p (c:\\python310\\lib\\site-packages)\n",
      "WARNING: Ignoring invalid distribution -0p (c:\\python310\\lib\\site-packages)\n",
      "WARNING: Ignoring invalid distribution -1p (c:\\python310\\lib\\site-packages)\n",
      "WARNING: Ignoring invalid distribution -2p (c:\\python310\\lib\\site-packages)\n",
      "WARNING: Ignoring invalid distribution -3p (c:\\python310\\lib\\site-packages)\n",
      "WARNING: Ignoring invalid distribution -4p (c:\\python310\\lib\\site-packages)\n",
      "WARNING: Ignoring invalid distribution -5p (c:\\python310\\lib\\site-packages)\n",
      "WARNING: Ignoring invalid distribution -6p (c:\\python310\\lib\\site-packages)\n",
      "WARNING: Ignoring invalid distribution -7p (c:\\python310\\lib\\site-packages)\n",
      "WARNING: Ignoring invalid distribution -8p (c:\\python310\\lib\\site-packages)\n",
      "WARNING: Ignoring invalid distribution -ip (c:\\python310\\lib\\site-packages)\n"
     ]
    }
   ],
   "source": [
    "%pip install pandas_datareader\n",
    "import pandas_datareader as pdr\n",
    "import pandas as pd\n"
   ]
  },
  {
   "cell_type": "code",
   "execution_count": 63,
   "metadata": {},
   "outputs": [],
   "source": [
    "# df=df = pd.read_csv(\"NSE-TATAGLOBAL.csv\")\n",
    "\n",
    "# key='87f1826b1bfccae22202e680fbc72855fcacb2e9'\n",
    "# df= pdr.get_data_tiingo('NSE-TATAGLOBAL',api_key=key)\n",
    "\n"
   ]
  },
  {
   "cell_type": "code",
   "execution_count": 64,
   "metadata": {},
   "outputs": [],
   "source": [
    "# df.to_csv('NSE-TATAGLOBAL.csv')"
   ]
  },
  {
   "cell_type": "code",
   "execution_count": 65,
   "metadata": {},
   "outputs": [
    {
     "data": {
      "text/html": [
       "<div>\n",
       "<style scoped>\n",
       "    .dataframe tbody tr th:only-of-type {\n",
       "        vertical-align: middle;\n",
       "    }\n",
       "\n",
       "    .dataframe tbody tr th {\n",
       "        vertical-align: top;\n",
       "    }\n",
       "\n",
       "    .dataframe thead th {\n",
       "        text-align: right;\n",
       "    }\n",
       "</style>\n",
       "<table border=\"1\" class=\"dataframe\">\n",
       "  <thead>\n",
       "    <tr style=\"text-align: right;\">\n",
       "      <th></th>\n",
       "      <th>Date</th>\n",
       "      <th>Open</th>\n",
       "      <th>High</th>\n",
       "      <th>Low</th>\n",
       "      <th>Last</th>\n",
       "      <th>Close</th>\n",
       "      <th>Total Trade Quantity</th>\n",
       "      <th>Turnover (Lacs)</th>\n",
       "    </tr>\n",
       "  </thead>\n",
       "  <tbody>\n",
       "    <tr>\n",
       "      <th>2030</th>\n",
       "      <td>2010-07-27</td>\n",
       "      <td>117.6</td>\n",
       "      <td>119.50</td>\n",
       "      <td>112.00</td>\n",
       "      <td>118.80</td>\n",
       "      <td>118.65</td>\n",
       "      <td>586100</td>\n",
       "      <td>694.98</td>\n",
       "    </tr>\n",
       "    <tr>\n",
       "      <th>2031</th>\n",
       "      <td>2010-07-26</td>\n",
       "      <td>120.1</td>\n",
       "      <td>121.00</td>\n",
       "      <td>117.10</td>\n",
       "      <td>117.10</td>\n",
       "      <td>117.60</td>\n",
       "      <td>658440</td>\n",
       "      <td>780.01</td>\n",
       "    </tr>\n",
       "    <tr>\n",
       "      <th>2032</th>\n",
       "      <td>2010-07-23</td>\n",
       "      <td>121.8</td>\n",
       "      <td>121.95</td>\n",
       "      <td>120.25</td>\n",
       "      <td>120.35</td>\n",
       "      <td>120.65</td>\n",
       "      <td>281312</td>\n",
       "      <td>340.31</td>\n",
       "    </tr>\n",
       "    <tr>\n",
       "      <th>2033</th>\n",
       "      <td>2010-07-22</td>\n",
       "      <td>120.3</td>\n",
       "      <td>122.00</td>\n",
       "      <td>120.25</td>\n",
       "      <td>120.75</td>\n",
       "      <td>120.90</td>\n",
       "      <td>293312</td>\n",
       "      <td>355.17</td>\n",
       "    </tr>\n",
       "    <tr>\n",
       "      <th>2034</th>\n",
       "      <td>2010-07-21</td>\n",
       "      <td>122.1</td>\n",
       "      <td>123.00</td>\n",
       "      <td>121.05</td>\n",
       "      <td>121.10</td>\n",
       "      <td>121.55</td>\n",
       "      <td>658666</td>\n",
       "      <td>803.56</td>\n",
       "    </tr>\n",
       "  </tbody>\n",
       "</table>\n",
       "</div>"
      ],
      "text/plain": [
       "            Date   Open    High     Low    Last   Close  Total Trade Quantity  \\\n",
       "2030  2010-07-27  117.6  119.50  112.00  118.80  118.65                586100   \n",
       "2031  2010-07-26  120.1  121.00  117.10  117.10  117.60                658440   \n",
       "2032  2010-07-23  121.8  121.95  120.25  120.35  120.65                281312   \n",
       "2033  2010-07-22  120.3  122.00  120.25  120.75  120.90                293312   \n",
       "2034  2010-07-21  122.1  123.00  121.05  121.10  121.55                658666   \n",
       "\n",
       "      Turnover (Lacs)  \n",
       "2030           694.98  \n",
       "2031           780.01  \n",
       "2032           340.31  \n",
       "2033           355.17  \n",
       "2034           803.56  "
      ]
     },
     "execution_count": 65,
     "metadata": {},
     "output_type": "execute_result"
    }
   ],
   "source": [
    "tata1= pd.read_csv(\"NSE-TATAGLOBAL.csv\")\n",
    "tata1.tail()"
   ]
  },
  {
   "cell_type": "code",
   "execution_count": 66,
   "metadata": {},
   "outputs": [
    {
     "data": {
      "text/plain": [
       "(2035,)"
      ]
     },
     "execution_count": 66,
     "metadata": {},
     "output_type": "execute_result"
    }
   ],
   "source": [
    "tata2=tata1.reset_index()['Close']\n",
    "tata2.shape"
   ]
  },
  {
   "cell_type": "code",
   "execution_count": 67,
   "metadata": {},
   "outputs": [
    {
     "data": {
      "text/plain": [
       "[<matplotlib.lines.Line2D at 0x1d8b1e95810>]"
      ]
     },
     "execution_count": 67,
     "metadata": {},
     "output_type": "execute_result"
    },
    {
     "data": {
      "image/png": "[encoded data removed]",
      "text/plain": [
       "<Figure size 640x480 with 1 Axes>"
      ]
     },
     "metadata": {},
     "output_type": "display_data"
    }
   ],
   "source": [
    "import matplotlib.pyplot as plt\n",
    "plt.plot(tata2)\n"
   ]
  },
  {
   "cell_type": "code",
   "execution_count": 68,
   "metadata": {},
   "outputs": [],
   "source": [
    "import numpy as np"
   ]
  },
  {
   "cell_type": "code",
   "execution_count": 96,
   "metadata": {},
   "outputs": [],
   "source": [
    "from sklearn.preprocessing import MinMaxScaler\n",
    "scaler=MinMaxScaler(feature_range=(0,1))\n",
    "tata2=scaler.fit_transform(np.array(tata2).reshape(-1,1))"
   ]
  },
  {
   "cell_type": "code",
   "execution_count": 95,
   "metadata": {},
   "outputs": [
    {
     "name": "stdout",
     "output_type": "stream",
     "text": [
      "[[0.62418301]\n",
      " [0.62214052]\n",
      " [0.62622549]\n",
      " ...\n",
      " [0.1621732 ]\n",
      " [0.16319444]\n",
      " [0.16584967]]\n"
     ]
    }
   ],
   "source": [
    "print(tata2)\n"
   ]
  },
  {
   "cell_type": "code",
   "execution_count": 71,
   "metadata": {},
   "outputs": [],
   "source": [
    "# from sklearn.model_selection import train_test_split\n",
    "# train,test=train_test_split(tata2,test_size=0.3)"
   ]
  },
  {
   "cell_type": "code",
   "execution_count": 72,
   "metadata": {},
   "outputs": [],
   "source": [
    "train_size=int(len(tata2)*0.65)\n",
    "test_size=len(tata2)-train_size\n",
    "train_data,test_data=tata2[0:train_size,:],tata2[train_size:len(tata2),:1]"
   ]
  },
  {
   "cell_type": "code",
   "execution_count": 73,
   "metadata": {},
   "outputs": [
    {
     "data": {
      "text/plain": [
       "(1322, 713)"
      ]
     },
     "execution_count": 73,
     "metadata": {},
     "output_type": "execute_result"
    }
   ],
   "source": [
    "train_size,test_size"
   ]
  },
  {
   "cell_type": "code",
   "execution_count": 74,
   "metadata": {},
   "outputs": [],
   "source": [
    "import numpy as np\n",
    "def create_dataset(dataset,time_step=1):\n",
    "    datax,datay=[],[]\n",
    "    for i in range (len(dataset)-time_step-1):\n",
    "        a=dataset[i:(i+time_step),0]\n",
    "        datax.append(a)\n",
    "        datay.append(dataset[i+time_step,0])\n",
    "    return np.array(datax),np.array(datay)"
   ]
  },
  {
   "cell_type": "code",
   "execution_count": 75,
   "metadata": {},
   "outputs": [],
   "source": [
    "#reshape into X=t,t+1,t+2,t+3 amd Y=t+4\n",
    "\n",
    "time_step=100\n",
    "X_train,Y_train =create_dataset(train_data,time_step)\n",
    "x_test,Y_test=create_dataset(test_data,time_step)"
   ]
  },
  {
   "cell_type": "code",
   "execution_count": 76,
   "metadata": {},
   "outputs": [
    {
     "name": "stdout",
     "output_type": "stream",
     "text": [
      "[[0.62418301 0.62214052 0.62622549 ... 0.83455882 0.86213235 0.85273693]\n",
      " [0.62214052 0.62622549 0.63378268 ... 0.86213235 0.85273693 0.87111928]\n",
      " [0.62622549 0.63378268 0.62234477 ... 0.85273693 0.87111928 0.84497549]\n",
      " ...\n",
      " [0.34517974 0.31781046 0.33047386 ... 0.2816585  0.27001634 0.26531863]\n",
      " [0.31781046 0.33047386 0.32128268 ... 0.27001634 0.26531863 0.27389706]\n",
      " [0.33047386 0.32128268 0.34007353 ... 0.26531863 0.27389706 0.25347222]]\n"
     ]
    }
   ],
   "source": [
    "print(X_train)"
   ]
  },
  {
   "cell_type": "code",
   "execution_count": 77,
   "metadata": {},
   "outputs": [
    {
     "name": "stdout",
     "output_type": "stream",
     "text": [
      "(612, 100) (612,)\n",
      "(1221, 100) (1221,)\n"
     ]
    }
   ],
   "source": [
    "print(x_test.shape,Y_test.shape)\n",
    "print(X_train.shape,Y_train.shape)"
   ]
  },
  {
   "cell_type": "code",
   "execution_count": 78,
   "metadata": {},
   "outputs": [],
   "source": [
    "# reshape input to be [sample ,timesteps, features] which is required for LSTM\n",
    "X_train=X_train.reshape(X_train.shape[0],X_train.shape[1],1)\n",
    "x_test=x_test.reshape(x_test.shape[0],x_test.shape[1],1)"
   ]
  },
  {
   "cell_type": "code",
   "execution_count": 79,
   "metadata": {},
   "outputs": [],
   "source": [
    "## create the stacked LSTM model\n",
    "from tensorflow.keras.models import Sequential\n",
    "from tensorflow.keras.layers import Dense\n",
    "from tensorflow.keras.layers import LSTM"
   ]
  },
  {
   "cell_type": "code",
   "execution_count": 80,
   "metadata": {},
   "outputs": [],
   "source": [
    "model=Sequential()\n",
    "model.add(LSTM(50,return_sequences=True,input_shape=(100,1)))\n",
    "model.add(LSTM(50,return_sequences=True))\n",
    "model.add(LSTM(50))\n",
    "model.add(Dense(1))\n",
    "model.compile(loss='mean_squared_error',optimizer='adam')"
   ]
  },
  {
   "cell_type": "code",
   "execution_count": 81,
   "metadata": {},
   "outputs": [
    {
     "name": "stdout",
     "output_type": "stream",
     "text": [
      "Model: \"sequential_1\"\n",
      "_________________________________________________________________\n",
      " Layer (type)                Output Shape              Param #   \n",
      "=================================================================\n",
      " lstm_3 (LSTM)               (None, 100, 50)           10400     \n",
      "                                                                 \n",
      " lstm_4 (LSTM)               (None, 100, 50)           20200     \n",
      "                                                                 \n",
      " lstm_5 (LSTM)               (None, 50)                20200     \n",
      "                                                                 \n",
      " dense_1 (Dense)             (None, 1)                 51        \n",
      "                                                                 \n",
      "=================================================================\n",
      "Total params: 50851 (198.64 KB)\n",
      "Trainable params: 50851 (198.64 KB)\n",
      "Non-trainable params: 0 (0.00 Byte)\n",
      "_________________________________________________________________\n"
     ]
    }
   ],
   "source": [
    "model.summary()"
   ]
  },
  {
   "cell_type": "code",
   "execution_count": 82,
   "metadata": {},
   "outputs": [
    {
     "name": "stdout",
     "output_type": "stream",
     "text": [
      "Epoch 1/100\n",
      "20/20 [==============================] - 16s 411ms/step - loss: 0.0280 - val_loss: 0.0058\n",
      "Epoch 2/100\n",
      "20/20 [==============================] - 3s 161ms/step - loss: 0.0031 - val_loss: 0.0012\n",
      "Epoch 3/100\n",
      "20/20 [==============================] - 3s 159ms/step - loss: 0.0018 - val_loss: 0.0011\n",
      "Epoch 4/100\n",
      "20/20 [==============================] - 3s 167ms/step - loss: 0.0020 - val_loss: 0.0015\n",
      "Epoch 5/100\n",
      "20/20 [==============================] - 3s 164ms/step - loss: 0.0020 - val_loss: 9.7455e-04\n",
      "Epoch 6/100\n",
      "20/20 [==============================] - 3s 162ms/step - loss: 0.0017 - val_loss: 0.0014\n",
      "Epoch 7/100\n",
      "20/20 [==============================] - 3s 166ms/step - loss: 0.0015 - val_loss: 0.0011\n",
      "Epoch 8/100\n",
      "20/20 [==============================] - 3s 161ms/step - loss: 0.0014 - val_loss: 0.0011\n",
      "Epoch 9/100\n",
      "20/20 [==============================] - 3s 161ms/step - loss: 0.0014 - val_loss: 0.0011\n",
      "Epoch 10/100\n",
      "20/20 [==============================] - 3s 162ms/step - loss: 0.0013 - val_loss: 0.0010\n",
      "Epoch 11/100\n",
      "20/20 [==============================] - 3s 168ms/step - loss: 0.0013 - val_loss: 8.7534e-04\n",
      "Epoch 12/100\n",
      "20/20 [==============================] - 4s 191ms/step - loss: 0.0017 - val_loss: 7.4475e-04\n",
      "Epoch 13/100\n",
      "20/20 [==============================] - 3s 168ms/step - loss: 0.0012 - val_loss: 8.9494e-04\n",
      "Epoch 14/100\n",
      "20/20 [==============================] - 3s 169ms/step - loss: 0.0012 - val_loss: 9.8337e-04\n",
      "Epoch 15/100\n",
      "20/20 [==============================] - 3s 173ms/step - loss: 0.0012 - val_loss: 7.9292e-04\n",
      "Epoch 16/100\n",
      "20/20 [==============================] - 3s 163ms/step - loss: 9.4871e-04 - val_loss: 9.0928e-04\n",
      "Epoch 17/100\n",
      "20/20 [==============================] - 3s 165ms/step - loss: 9.2635e-04 - val_loss: 8.0784e-04\n",
      "Epoch 18/100\n",
      "20/20 [==============================] - 3s 168ms/step - loss: 9.1425e-04 - val_loss: 7.8089e-04\n",
      "Epoch 19/100\n",
      "20/20 [==============================] - 3s 164ms/step - loss: 9.0122e-04 - val_loss: 9.5609e-04\n",
      "Epoch 20/100\n",
      "20/20 [==============================] - 3s 170ms/step - loss: 8.9254e-04 - val_loss: 8.1367e-04\n",
      "Epoch 21/100\n",
      "20/20 [==============================] - 4s 183ms/step - loss: 8.4406e-04 - val_loss: 8.0537e-04\n",
      "Epoch 22/100\n",
      "20/20 [==============================] - 3s 165ms/step - loss: 8.4007e-04 - val_loss: 8.4247e-04\n",
      "Epoch 23/100\n",
      "20/20 [==============================] - 3s 168ms/step - loss: 7.6551e-04 - val_loss: 8.4737e-04\n",
      "Epoch 24/100\n",
      "20/20 [==============================] - 3s 170ms/step - loss: 7.4987e-04 - val_loss: 7.7128e-04\n",
      "Epoch 25/100\n",
      "20/20 [==============================] - 4s 220ms/step - loss: 7.6377e-04 - val_loss: 6.8236e-04\n",
      "Epoch 26/100\n",
      "20/20 [==============================] - 4s 180ms/step - loss: 8.6921e-04 - val_loss: 8.4090e-04\n",
      "Epoch 27/100\n",
      "20/20 [==============================] - 3s 162ms/step - loss: 7.4336e-04 - val_loss: 8.4651e-04\n",
      "Epoch 28/100\n",
      "20/20 [==============================] - 3s 153ms/step - loss: 7.9345e-04 - val_loss: 6.7533e-04\n",
      "Epoch 29/100\n",
      "20/20 [==============================] - 3s 168ms/step - loss: 6.6936e-04 - val_loss: 6.6752e-04\n",
      "Epoch 30/100\n",
      "20/20 [==============================] - 3s 165ms/step - loss: 7.6336e-04 - val_loss: 7.9604e-04\n",
      "Epoch 31/100\n",
      "20/20 [==============================] - 4s 208ms/step - loss: 7.4377e-04 - val_loss: 7.5667e-04\n",
      "Epoch 32/100\n",
      "20/20 [==============================] - 3s 150ms/step - loss: 6.6351e-04 - val_loss: 7.5060e-04\n",
      "Epoch 33/100\n",
      "20/20 [==============================] - 3s 141ms/step - loss: 6.3676e-04 - val_loss: 7.7731e-04\n",
      "Epoch 34/100\n",
      "20/20 [==============================] - 3s 140ms/step - loss: 5.8944e-04 - val_loss: 7.6750e-04\n",
      "Epoch 35/100\n",
      "20/20 [==============================] - 3s 142ms/step - loss: 6.9477e-04 - val_loss: 0.0012\n",
      "Epoch 36/100\n",
      "20/20 [==============================] - 3s 143ms/step - loss: 9.0796e-04 - val_loss: 6.0051e-04\n",
      "Epoch 37/100\n",
      "20/20 [==============================] - 6s 283ms/step - loss: 6.2602e-04 - val_loss: 5.3698e-04\n",
      "Epoch 38/100\n",
      "20/20 [==============================] - 3s 144ms/step - loss: 7.4226e-04 - val_loss: 6.2531e-04\n",
      "Epoch 39/100\n",
      "20/20 [==============================] - 3s 153ms/step - loss: 6.5092e-04 - val_loss: 8.1325e-04\n",
      "Epoch 40/100\n",
      "20/20 [==============================] - 3s 140ms/step - loss: 5.3682e-04 - val_loss: 4.9324e-04\n",
      "Epoch 41/100\n",
      "20/20 [==============================] - 3s 161ms/step - loss: 7.6259e-04 - val_loss: 6.8130e-04\n",
      "Epoch 42/100\n",
      "20/20 [==============================] - 4s 221ms/step - loss: 6.7353e-04 - val_loss: 5.8027e-04\n",
      "Epoch 43/100\n",
      "20/20 [==============================] - 6s 279ms/step - loss: 5.4312e-04 - val_loss: 6.3078e-04\n",
      "Epoch 44/100\n",
      "20/20 [==============================] - 3s 149ms/step - loss: 5.1875e-04 - val_loss: 5.3944e-04\n",
      "Epoch 45/100\n",
      "20/20 [==============================] - 5s 253ms/step - loss: 5.6023e-04 - val_loss: 4.9107e-04\n",
      "Epoch 46/100\n",
      "20/20 [==============================] - 3s 174ms/step - loss: 5.6750e-04 - val_loss: 5.8148e-04\n",
      "Epoch 47/100\n",
      "20/20 [==============================] - 3s 155ms/step - loss: 5.6688e-04 - val_loss: 6.1863e-04\n",
      "Epoch 48/100\n",
      "20/20 [==============================] - 3s 147ms/step - loss: 5.4921e-04 - val_loss: 6.3917e-04\n",
      "Epoch 49/100\n",
      "20/20 [==============================] - 3s 156ms/step - loss: 4.9365e-04 - val_loss: 4.8353e-04\n",
      "Epoch 50/100\n",
      "20/20 [==============================] - 3s 155ms/step - loss: 4.7056e-04 - val_loss: 5.1900e-04\n",
      "Epoch 51/100\n",
      "20/20 [==============================] - 3s 160ms/step - loss: 4.7713e-04 - val_loss: 4.4477e-04\n",
      "Epoch 52/100\n",
      "20/20 [==============================] - 3s 153ms/step - loss: 4.8768e-04 - val_loss: 5.5344e-04\n",
      "Epoch 53/100\n",
      "20/20 [==============================] - 3s 151ms/step - loss: 5.2329e-04 - val_loss: 3.9838e-04\n",
      "Epoch 54/100\n",
      "20/20 [==============================] - 3s 171ms/step - loss: 7.6269e-04 - val_loss: 5.6531e-04\n",
      "Epoch 55/100\n",
      "20/20 [==============================] - 3s 164ms/step - loss: 4.9793e-04 - val_loss: 4.3623e-04\n",
      "Epoch 56/100\n",
      "20/20 [==============================] - 3s 146ms/step - loss: 7.5707e-04 - val_loss: 3.6754e-04\n",
      "Epoch 57/100\n",
      "20/20 [==============================] - 3s 148ms/step - loss: 4.7444e-04 - val_loss: 4.7564e-04\n",
      "Epoch 58/100\n",
      "20/20 [==============================] - 3s 145ms/step - loss: 5.9939e-04 - val_loss: 4.8880e-04\n",
      "Epoch 59/100\n",
      "20/20 [==============================] - 3s 147ms/step - loss: 4.1536e-04 - val_loss: 5.1774e-04\n",
      "Epoch 60/100\n",
      "20/20 [==============================] - 3s 146ms/step - loss: 4.0635e-04 - val_loss: 3.9954e-04\n",
      "Epoch 61/100\n",
      "20/20 [==============================] - 3s 145ms/step - loss: 3.9418e-04 - val_loss: 4.8275e-04\n",
      "Epoch 62/100\n",
      "20/20 [==============================] - 3s 147ms/step - loss: 3.9013e-04 - val_loss: 3.7121e-04\n",
      "Epoch 63/100\n",
      "20/20 [==============================] - 3s 150ms/step - loss: 4.0497e-04 - val_loss: 4.0133e-04\n",
      "Epoch 64/100\n",
      "20/20 [==============================] - 4s 219ms/step - loss: 3.7719e-04 - val_loss: 3.9306e-04\n",
      "Epoch 65/100\n",
      "20/20 [==============================] - 3s 143ms/step - loss: 3.7906e-04 - val_loss: 3.9836e-04\n",
      "Epoch 66/100\n",
      "20/20 [==============================] - 3s 151ms/step - loss: 3.8156e-04 - val_loss: 3.8104e-04\n",
      "Epoch 67/100\n",
      "20/20 [==============================] - 3s 146ms/step - loss: 3.5997e-04 - val_loss: 3.6151e-04\n",
      "Epoch 68/100\n",
      "20/20 [==============================] - 3s 143ms/step - loss: 4.1108e-04 - val_loss: 4.0535e-04\n",
      "Epoch 69/100\n",
      "20/20 [==============================] - 3s 146ms/step - loss: 3.8944e-04 - val_loss: 3.3981e-04\n",
      "Epoch 70/100\n",
      "20/20 [==============================] - 3s 146ms/step - loss: 3.4767e-04 - val_loss: 3.6237e-04\n",
      "Epoch 71/100\n",
      "20/20 [==============================] - 3s 146ms/step - loss: 3.5787e-04 - val_loss: 3.1874e-04\n",
      "Epoch 72/100\n",
      "20/20 [==============================] - 3s 146ms/step - loss: 3.3211e-04 - val_loss: 4.3378e-04\n",
      "Epoch 73/100\n",
      "20/20 [==============================] - 3s 145ms/step - loss: 3.4725e-04 - val_loss: 2.8376e-04\n",
      "Epoch 74/100\n",
      "20/20 [==============================] - 3s 146ms/step - loss: 3.3899e-04 - val_loss: 4.0766e-04\n",
      "Epoch 75/100\n",
      "20/20 [==============================] - 3s 145ms/step - loss: 3.1125e-04 - val_loss: 4.1482e-04\n",
      "Epoch 76/100\n",
      "20/20 [==============================] - 3s 155ms/step - loss: 3.0486e-04 - val_loss: 3.1339e-04\n",
      "Epoch 77/100\n",
      "20/20 [==============================] - 3s 151ms/step - loss: 3.0160e-04 - val_loss: 3.2122e-04\n",
      "Epoch 78/100\n",
      "20/20 [==============================] - 3s 146ms/step - loss: 4.2291e-04 - val_loss: 4.1560e-04\n",
      "Epoch 79/100\n",
      "20/20 [==============================] - 3s 144ms/step - loss: 3.4335e-04 - val_loss: 2.9948e-04\n",
      "Epoch 80/100\n",
      "20/20 [==============================] - 3s 145ms/step - loss: 3.0033e-04 - val_loss: 2.7709e-04\n",
      "Epoch 81/100\n",
      "20/20 [==============================] - 3s 145ms/step - loss: 2.9268e-04 - val_loss: 3.3546e-04\n",
      "Epoch 82/100\n",
      "20/20 [==============================] - 3s 144ms/step - loss: 3.7976e-04 - val_loss: 2.8438e-04\n",
      "Epoch 83/100\n",
      "20/20 [==============================] - 3s 144ms/step - loss: 4.7079e-04 - val_loss: 3.4894e-04\n",
      "Epoch 84/100\n",
      "20/20 [==============================] - 3s 144ms/step - loss: 3.2748e-04 - val_loss: 3.3089e-04\n",
      "Epoch 85/100\n",
      "20/20 [==============================] - 3s 145ms/step - loss: 2.9655e-04 - val_loss: 2.7050e-04\n",
      "Epoch 86/100\n",
      "20/20 [==============================] - 3s 146ms/step - loss: 3.1826e-04 - val_loss: 2.7851e-04\n",
      "Epoch 87/100\n",
      "20/20 [==============================] - 3s 145ms/step - loss: 2.7405e-04 - val_loss: 2.6012e-04\n",
      "Epoch 88/100\n",
      "20/20 [==============================] - 3s 146ms/step - loss: 2.6847e-04 - val_loss: 2.9187e-04\n",
      "Epoch 89/100\n",
      "20/20 [==============================] - 3s 143ms/step - loss: 2.9556e-04 - val_loss: 3.2207e-04\n",
      "Epoch 90/100\n",
      "20/20 [==============================] - 3s 145ms/step - loss: 2.8525e-04 - val_loss: 3.5850e-04\n",
      "Epoch 91/100\n",
      "20/20 [==============================] - 3s 146ms/step - loss: 3.3949e-04 - val_loss: 3.2012e-04\n",
      "Epoch 92/100\n",
      "20/20 [==============================] - 3s 144ms/step - loss: 2.7315e-04 - val_loss: 2.7728e-04\n",
      "Epoch 93/100\n",
      "20/20 [==============================] - 3s 145ms/step - loss: 2.6469e-04 - val_loss: 2.6508e-04\n",
      "Epoch 94/100\n",
      "20/20 [==============================] - 3s 146ms/step - loss: 2.4574e-04 - val_loss: 2.4785e-04\n",
      "Epoch 95/100\n",
      "20/20 [==============================] - 3s 146ms/step - loss: 2.5663e-04 - val_loss: 2.3688e-04\n",
      "Epoch 96/100\n",
      "20/20 [==============================] - 3s 145ms/step - loss: 2.5264e-04 - val_loss: 2.8557e-04\n",
      "Epoch 97/100\n",
      "20/20 [==============================] - 3s 144ms/step - loss: 2.5820e-04 - val_loss: 2.3547e-04\n",
      "Epoch 98/100\n",
      "20/20 [==============================] - 3s 144ms/step - loss: 2.3961e-04 - val_loss: 2.7076e-04\n",
      "Epoch 99/100\n",
      "20/20 [==============================] - 3s 145ms/step - loss: 2.3093e-04 - val_loss: 2.4813e-04\n",
      "Epoch 100/100\n",
      "20/20 [==============================] - 3s 147ms/step - loss: 2.5369e-04 - val_loss: 2.2221e-04\n"
     ]
    },
    {
     "data": {
      "text/plain": [
       "<keras.src.callbacks.History at 0x1d8b1dea980>"
      ]
     },
     "execution_count": 82,
     "metadata": {},
     "output_type": "execute_result"
    }
   ],
   "source": [
    "model.fit(X_train,Y_train,validation_data=(x_test,Y_test),epochs=100,batch_size=64,verbose=1)"
   ]
  },
  {
   "cell_type": "code",
   "execution_count": 83,
   "metadata": {},
   "outputs": [
    {
     "name": "stdout",
     "output_type": "stream",
     "text": [
      "39/39 [==============================] - 2s 26ms/step\n",
      "20/20 [==============================] - 1s 25ms/step\n"
     ]
    }
   ],
   "source": [
    "##lets do the prediction and check perfofrmance metrics\n",
    "train_predict=model.predict(X_train)\n",
    "test_predict=model.predict(x_test)"
   ]
  },
  {
   "cell_type": "code",
   "execution_count": 91,
   "metadata": {},
   "outputs": [],
   "source": [
    "##Transform back to original form\n",
    "train_predict=scaler.inverse_transform(train_predict)\n",
    "test_predict=scaler.inverse_transform(test_predict)\n"
   ]
  },
  {
   "cell_type": "code",
   "execution_count": 85,
   "metadata": {},
   "outputs": [
    {
     "data": {
      "text/plain": [
       "163.42138844602655"
      ]
     },
     "execution_count": 85,
     "metadata": {},
     "output_type": "execute_result"
    }
   ],
   "source": [
    "## calculate the MSE performance metrics\n",
    "import math \n",
    "from sklearn.metrics import mean_squared_error\n",
    "math.sqrt(mean_squared_error(Y_train,train_predict))"
   ]
  },
  {
   "cell_type": "code",
   "execution_count": 86,
   "metadata": {},
   "outputs": [
    {
     "data": {
      "text/plain": [
       "115.18930744692926"
      ]
     },
     "execution_count": 86,
     "metadata": {},
     "output_type": "execute_result"
    }
   ],
   "source": [
    "##test data RSE\n",
    "math.sqrt(mean_squared_error(Y_test,test_predict))"
   ]
  },
  {
   "cell_type": "code",
   "execution_count": 98,
   "metadata": {},
   "outputs": [
    {
     "data": {
      "image/png": "[encoded data removed]",
      "text/plain": [
       "<Figure size 640x480 with 1 Axes>"
      ]
     },
     "metadata": {},
     "output_type": "display_data"
    }
   ],
   "source": [
    "##plotting\n",
    "# shift train prediction for plotting \n",
    "import numpy as np\n",
    "look_back=100\n",
    "trainpredict_plot= np.empty_like(tata2)\n",
    "trainpredict_plot[:,:]=np.nan\n",
    "trainpredict_plot[look_back :len(train_predict)+look_back,:]=train_predict\n",
    "\n",
    "# shift test predictions for plotting \n",
    "testpredict_plot=np.empty_like(tata2)\n",
    "testpredict_plot[:,:]=np.nan\n",
    "testpredict_plot[len(train_predict)+(look_back*2)+  1:len(tata2)-1,:]=test_predict\n",
    "\n",
    "#plot baseline and prediction\n",
    "plt.plot(scaler.inverse_transform(tata2))\n",
    "plt.plot(trainpredict_plot)\n",
    "plt.plot(testpredict_plot)\n",
    "plt.show()"
   ]
  }
 ],
 "metadata": {
  "kernelspec": {
   "display_name": "Python 3",
   "language": "python",
   "name": "python3"
  },
  "language_info": {
   "codemirror_mode": {
    "name": "ipython",
    "version": 3
   },
   "file_extension": ".py",
   "mimetype": "text/x-python",
   "name": "python",
   "nbconvert_exporter": "python",
   "pygments_lexer": "ipython3",
   "version": "3.10.7"
  },
  "orig_nbformat": 4
 },
 "nbformat": 4,
 "nbformat_minor": 2
}
